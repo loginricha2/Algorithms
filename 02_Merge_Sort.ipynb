{
 "cells": [
  {
   "attachments": {
    "Picture1.png": {
     "image/png": "[encoded data removed]"
    }
   },
   "cell_type": "markdown",
   "metadata": {},
   "source": [
    "# Merge Sort Algorithm\n",
    "(invented by John von Neumann in 1945)\n",
    "    \n",
    "Purpose of algorithm is to sort an unsorted array of number in increasing order. The sorting is done recursively followed by merging. The steps involved are:\n",
    "\n",
    "- Step 1: Split the array recursively till list has only one element\n",
    "- Step 2: In order to merge the routine, traverse the two sorted sub-array and compare the individual elements and append the smaller element to the output array. Increment the index of the sub-array from which element has been appended. \n",
    "- Step 3: When one of the sub-array is exhausted, append the remaining of second sorted sub-array to the output array and return.\n",
    "\n",
    "In essence, this requires two recursive calls. First we recursively split the array till we end up with sub-arrays of one element each. Next we merge the sub-arrays by comparing the individual elements and sorting them in output array till we have sorted the entire input array.\n",
    "\n",
    "## Pseudocode for merge \n",
    "(Source: Tim Roughneck, Stanford)\n",
    "\n",
    "C= output [length =n]\n",
    "A = 1st sorted sub array [n/2]\n",
    "B = 2nd sorted sub array [n/2]\n",
    "i = 0\n",
    "j = 0\n",
    "\n",
    "$\\qquad$ for k =1 to n <br>\n",
    "$\\qquad$ $\\qquad$ if A(i) <= B(j) <br>\n",
    "$\\qquad$ $\\qquad$ $\\qquad$ C(k) =A(i) <br>\n",
    "$\\qquad$ $\\qquad$ $\\qquad$  i++ <br>\n",
    "$\\qquad$ $\\qquad$ else if A(i) > B(j) <br>\n",
    "$\\qquad$ $\\qquad$ $\\qquad$ C(k) = B(j) <br>\n",
    "$\\qquad$ $\\qquad$ $\\qquad$ j++ <br>\n",
    "\n",
    " \n",
    "## Time Complexity\n",
    "(Source: Tim Roughneck, Stanford)\n",
    "\n",
    "### For pseudocode merge:\n",
    "For each iteration of For loop, we have 4 operations => $4m$ operations where $m$ is the size of array at iteration level.\n",
    "Running time for merge subroutine  = $4m +2$ (2 assignment operations). This doesn't count the two operations of comparing the dummy variables with upperbound of subarray. So technically it will be $6m+2$ operations. \n",
    "\n",
    "### For merge-sort part\n",
    "To understand the number of operations in merge-sort (or divide conquer) algorithm consider the figure below. It is n dimensional array at root. The base is at level $log_2n$. So total number of levels is $log_2n + 1$ (including root level 0). \n",
    "\n",
    "The $jth$ level has $2^j$ subproblems (as number of problems are doubling at each level) each of size $n/2^j$ (as problem halves at each iteration).\n",
    "\n",
    "![Picture1.png](attachment:Picture1.png)\n",
    "\n",
    "At each level of the merge-sort the only operation apart from recursive calls that gets called is merge. The merge algorithm execute $6m$ operations where $m$ is the size of array at iteration level. So at level j, when it will solve $2^j$ subproblems of size $n/2^j$ where $n$ is size of original array,  it will execute $2^j * (6*n/2^j)$ operations (ignoring constant factor). Cancelling out the terms we get $6n$ terms(This is due to balancing act of doubling of subproblems and halving of size of subproblems).\n",
    "\n",
    "As discussed, there are $(log_2n +1) * 6n$ operations executed. The recursive part of mergesort executes $6n log_2(n) +6n$ operations. \n",
    "\n",
    "This means the time complexity of merge-sort is $O(nlog_2n)$"
   ]
  },
  {
   "cell_type": "code",
   "execution_count": 74,
   "metadata": {},
   "outputs": [],
   "source": [
    "import pandas as pd\n",
    "import numpy as np"
   ]
  },
  {
   "cell_type": "code",
   "execution_count": 83,
   "metadata": {},
   "outputs": [],
   "source": [
    "def split_array(lst):\n",
    "    # Splits the array lst in two halves a,b \n",
    "    n = len(lst)\n",
    "    lst1 = lst[0:int(n//2)]\n",
    "    lst2 = lst[int(n//2)::]\n",
    "    return lst1,lst2"
   ]
  },
  {
   "cell_type": "code",
   "execution_count": 89,
   "metadata": {},
   "outputs": [],
   "source": [
    "def merge(lst1, lst2):\n",
    "    # subroutine to merge two lists in one sorted list\n",
    "    \n",
    "    # The length of output list will be equal to lengths of two lists\n",
    "    n1= len(lst1)\n",
    "    n2 = len(lst2)\n",
    "    n=n1+n2\n",
    "    lst = []\n",
    "    i =0\n",
    "    j =0\n",
    "    \n",
    "    \n",
    "    for k in range(n):\n",
    "        # if one of the list ends, concatenate the remaining second list to end of output list\n",
    "        # Since we are merging each list after sorting in merge-sort, both list indivudally will already be sorted\n",
    "        # The merge routine runs till one of the list is exhausted\n",
    "        if i == n1: return lst+lst2[j::]\n",
    "        if j == n2: return lst+lst1[i::]\n",
    "        \n",
    "        # Sorting if both list length > 0 \n",
    "        # We compare individual element of one sorted list with other, \n",
    "        # if its smaller or equal to the element of second sorted list, we concatenate the output list with this \n",
    "        # element and increase the counter of the list by one \n",
    "        if lst1[i] <= lst2[j]:\n",
    "            lst.append(lst1[i])\n",
    "            i+=1\n",
    "            \n",
    "        elif lst1[i] > lst2[j]:\n",
    "            lst.append(lst2[j])\n",
    "            j+=1\n",
    "           \n"
   ]
  },
  {
   "cell_type": "code",
   "execution_count": 90,
   "metadata": {},
   "outputs": [
    {
     "name": "stdout",
     "output_type": "stream",
     "text": [
      "[1, 3, 4, 6, 8, 9]\n"
     ]
    }
   ],
   "source": [
    "# Test\n",
    "lst1 = [1,4,8]\n",
    "lst2 = [3,6,9]\n",
    "print(merge(lst1,lst2))"
   ]
  },
  {
   "cell_type": "code",
   "execution_count": 91,
   "metadata": {},
   "outputs": [],
   "source": [
    "def merge_sort(lst):\n",
    "    # Subroutine to recursively split (using merge_sort call) and merging the list after sorting (using merge call)\n",
    "    n = len(lst)\n",
    "    \n",
    "    if n==1:\n",
    "        return lst\n",
    "    # Base case for recursion routine. If n =1, or list is down to its last element, we return the list\n",
    "    # The sorting and merging of element starts once all the sub list are reduced to one element array.\n",
    "    \n",
    "    else:\n",
    "        lst1, lst2 =split_array(lst)\n",
    "        return merge(merge_sort(lst1),merge_sort(lst2))\n"
   ]
  },
  {
   "cell_type": "code",
   "execution_count": 92,
   "metadata": {},
   "outputs": [
    {
     "name": "stdout",
     "output_type": "stream",
     "text": [
      "[1, 2, 4, 5, 8]\n"
     ]
    }
   ],
   "source": [
    "# test\n",
    "print(merge_sort([4,2,1,8,5]))"
   ]
  },
  {
   "cell_type": "code",
   "execution_count": 93,
   "metadata": {},
   "outputs": [
    {
     "name": "stdout",
     "output_type": "stream",
     "text": [
      "All test passed\n"
     ]
    }
   ],
   "source": [
    "# Test the merge_sort routine\n",
    "\n",
    "from nose.tools import assert_equal\n",
    "\n",
    "class test_mergesort(object):\n",
    "    \n",
    "    def testing(self,sol):\n",
    "        assert_equal(sol([4,5,2,3,9]),[2,3,4,5,9])\n",
    "        assert_equal(sol([40, 10, 3, 100, 45]),[3,10,40,45,100])\n",
    "        \n",
    "        print('All test passed')\n",
    "\n",
    "t1 = test_mergesort()\n",
    "t1.testing(merge_sort)"
   ]
  }
 ],
 "metadata": {
  "kernelspec": {
   "display_name": "Python 3",
   "language": "python",
   "name": "python3"
  },
  "language_info": {
   "codemirror_mode": {
    "name": "ipython",
    "version": 3
   },
   "file_extension": ".py",
   "mimetype": "text/x-python",
   "name": "python",
   "nbconvert_exporter": "python",
   "pygments_lexer": "ipython3",
   "version": "3.7.3"
  }
 },
 "nbformat": 4,
 "nbformat_minor": 2
}
