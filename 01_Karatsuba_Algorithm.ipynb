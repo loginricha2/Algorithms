{
 "cells": [
  {
   "cell_type": "code",
   "execution_count": 2,
   "metadata": {},
   "outputs": [],
   "source": [
    "import pandas as pd\n",
    "import numpy as np\n",
    "import matplotlib.pyplot as plt\n",
    "\n",
    "%matplotlib inline"
   ]
  },
  {
   "cell_type": "code",
   "execution_count": 3,
   "metadata": {},
   "outputs": [],
   "source": [
    "def count_digit(x):\n",
    "    lst =[int(i) for i in str(x)]\n",
    "    return lst"
   ]
  },
  {
   "cell_type": "code",
   "execution_count": 4,
   "metadata": {},
   "outputs": [],
   "source": [
    "def digit2Number(lst):\n",
    "    no =0\n",
    "    for i in range(len(lst)):\n",
    "        no += lst[i]*10**((len(lst))-i-1)\n",
    "    return no"
   ]
  },
  {
   "cell_type": "code",
   "execution_count": 5,
   "metadata": {},
   "outputs": [
    {
     "name": "stdout",
     "output_type": "stream",
     "text": [
      "[1, 2, 3, 4, 5]\n"
     ]
    }
   ],
   "source": [
    "# check\n",
    "x =12345\n",
    "lst = count_digit(x)\n",
    "print(lst)"
   ]
  },
  {
   "cell_type": "code",
   "execution_count": 6,
   "metadata": {},
   "outputs": [
    {
     "name": "stdout",
     "output_type": "stream",
     "text": [
      "12345\n"
     ]
    }
   ],
   "source": [
    "x =12345\n",
    "lst= count_digit(x)\n",
    "x1 = digit2Number(lst)\n",
    "print(x1)"
   ]
  },
  {
   "cell_type": "code",
   "execution_count": 7,
   "metadata": {},
   "outputs": [],
   "source": [
    "def prod(a,b,c,d,n):\n",
    "    p1 = a*c\n",
    "    p2 = b*d\n",
    "    p3 = (a+b)*(c+d)\n",
    "    p4 = p3-p2-p1\n",
    "    \n",
    "#     print('p1, p2,p3,p4:', p1, p2, p3, p4)\n",
    "    return (p1*(10**n)) + (p4*(10**(n/2))) + p2\n",
    "        "
   ]
  },
  {
   "cell_type": "code",
   "execution_count": 8,
   "metadata": {},
   "outputs": [],
   "source": [
    "def split_number(lst):\n",
    "    n = len(lst)\n",
    "    a = lst[0:int(n//2)]\n",
    "    b = lst[int(n//2)::]\n",
    "    return a,b\n",
    "    "
   ]
  },
  {
   "cell_type": "code",
   "execution_count": 50,
   "metadata": {},
   "outputs": [],
   "source": [
    "def Karatsuba(x,y):\n",
    "    #Non-recursive version\n",
    "    \n",
    "    #turn integers into digits\n",
    "    lst_x = count_digit(x)\n",
    "    lst_y = count_digit(y)\n",
    "    n =max(len(lst_x),len(lst_y))\n",
    "    \n",
    "    # For unequl length of multiples, pad the list with \n",
    "    # zeros and divide the result bt power of 10 in the end\n",
    "    div =1\n",
    "    if len(lst_x) < len(lst_y):\n",
    "        div = 10**(len(lst_y)-len(lst_x))\n",
    "        lst_x = (lst_x +[0]*(len(lst_y)-len(lst_x)))\n",
    "        \n",
    "    elif len(lst_y)< len(lst_x):\n",
    "        div = 10**(len(lst_x)-len(lst_y))\n",
    "        lst_y = (lst_y +[0]*(len(lst_x)-len(lst_y)))\n",
    "        \n",
    "    \n",
    "    # Divide in two halves\n",
    "    a,b =  split_number(lst_x)\n",
    "    c,d = split_number(lst_y)\n",
    "    \n",
    "    # Change back to integers from array\n",
    "    a = digit2Number(a)\n",
    "    b = digit2Number(b)\n",
    "    c = digit2Number(c)\n",
    "    d = digit2Number(d)\n",
    "    \n",
    "\n",
    "    # Calculate the terms\n",
    "    p1 = a*c\n",
    "    p2 = b*d\n",
    "    p3 = (a+b)*(c+d)\n",
    "    p4 = p3-p2-p1\n",
    "    \n",
    "    # The modulus function in result ensure it works for odd number of digits.\n",
    "    return int(((p1*(10**(n+(n%2))))+ (p4*(10**((n+(n%2))//2))) +p2)/div)\n"
   ]
  },
  {
   "cell_type": "code",
   "execution_count": 51,
   "metadata": {},
   "outputs": [
    {
     "data": {
      "text/plain": [
       "46230"
      ]
     },
     "execution_count": 51,
     "metadata": {},
     "output_type": "execute_result"
    }
   ],
   "source": [
    "Karatsuba(134,345)"
   ]
  },
  {
   "cell_type": "code",
   "execution_count": 69,
   "metadata": {},
   "outputs": [],
   "source": [
    "def Karatsuba_recursive(x,y):\n",
    "    #Non-recursive version\n",
    "    \n",
    "    #turn integers into digits\n",
    "    lst_x = count_digit(x)\n",
    "    lst_y = count_digit(y)\n",
    "    n =max(len(lst_x),len(lst_y))\n",
    "    \n",
    "    # Base case\n",
    "    if n == 1:\n",
    "        return x*y\n",
    "    \n",
    "    else:\n",
    "        \n",
    "        # for unequal numbers of length: workout later\n",
    "        div =1\n",
    "        print(lst_x,lst_y)\n",
    "#         if len(lst_x) < len(lst_y):\n",
    "#             print('enter first if')\n",
    "#             div = 10**(len(lst_y)-len(lst_x))\n",
    "#             lst_x = (lst_x +[0]*(len(lst_y)-len(lst_x)))\n",
    "\n",
    "#         elif len(lst_y)< len(lst_x):\n",
    "#             print('enter second if')\n",
    "#             div = 10**(len(lst_x)-len(lst_y))\n",
    "#             lst_y = (lst_y +[0]*(len(lst_x)-len(lst_y)))\n",
    "\n",
    "\n",
    "        # Divide in two halves\n",
    "#         if n >=2:\n",
    "        a,b =  split_number(lst_x)\n",
    "        c,d = split_number(lst_y)\n",
    "\n",
    "        # Change back to integers from array\n",
    "        a = digit2Number(a)\n",
    "        b = digit2Number(b)\n",
    "        c = digit2Number(c)\n",
    "        d = digit2Number(d)\n",
    "        print(a,b,c,d)\n",
    "        \n",
    "        # Calculate the terms using recursion\n",
    "        # base case? \n",
    "        p1 = Karatsuba_recursive(a,c)\n",
    "        p2 = Karatsuba_recursive(b,d)\n",
    "        p3 = Karatsuba_recursive((a+b),(c+d))\n",
    "        p4 = p3-p2-p1\n",
    "\n",
    "        return (p1*(10**(n+(n%2))))+ (p4*(10**((n+(n%2))//2))) +p2\n"
   ]
  },
  {
   "cell_type": "code",
   "execution_count": 70,
   "metadata": {},
   "outputs": [
    {
     "name": "stdout",
     "output_type": "stream",
     "text": [
      "[1, 0, 0] [2, 1, 0]\n",
      "1 0 2 10\n",
      "[0] [1, 0]\n",
      "0 0 1 0\n",
      "[1] [1, 2]\n",
      "0 1 1 2\n"
     ]
    },
    {
     "data": {
      "text/plain": [
       "21000"
      ]
     },
     "execution_count": 70,
     "metadata": {},
     "output_type": "execute_result"
    }
   ],
   "source": [
    "Karatsuba_recursive(100,210)"
   ]
  },
  {
   "cell_type": "code",
   "execution_count": null,
   "metadata": {},
   "outputs": [],
   "source": []
  },
  {
   "cell_type": "code",
   "execution_count": null,
   "metadata": {},
   "outputs": [],
   "source": []
  },
  {
   "cell_type": "code",
   "execution_count": 139,
   "metadata": {},
   "outputs": [],
   "source": [
    "def factorial_recursive(n):\n",
    "    # Base case: 1! = 1\n",
    "    if n == 1:\n",
    "        print(n)\n",
    "        return 1\n",
    "\n",
    "    # Recursive case: n! = n * (n-1)!\n",
    "    else:\n",
    "        print(n)\n",
    "        return n * factorial_recursive(n-1)"
   ]
  },
  {
   "cell_type": "code",
   "execution_count": 140,
   "metadata": {},
   "outputs": [
    {
     "name": "stdout",
     "output_type": "stream",
     "text": [
      "4\n",
      "3\n",
      "2\n",
      "1\n"
     ]
    },
    {
     "data": {
      "text/plain": [
       "24"
      ]
     },
     "execution_count": 140,
     "metadata": {},
     "output_type": "execute_result"
    }
   ],
   "source": [
    "factorial_recursive(4)"
   ]
  },
  {
   "cell_type": "code",
   "execution_count": null,
   "metadata": {},
   "outputs": [],
   "source": []
  }
 ],
 "metadata": {
  "kernelspec": {
   "display_name": "Python 3",
   "language": "python",
   "name": "python3"
  },
  "language_info": {
   "codemirror_mode": {
    "name": "ipython",
    "version": 3
   },
   "file_extension": ".py",
   "mimetype": "text/x-python",
   "name": "python",
   "nbconvert_exporter": "python",
   "pygments_lexer": "ipython3",
   "version": "3.7.3"
  }
 },
 "nbformat": 4,
 "nbformat_minor": 2
}
