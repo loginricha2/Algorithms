{
 "cells": [
  {
   "attachments": {
    "Picture1.png": {
     "image/png": "[encoded data removed]"
    }
   },
   "cell_type": "markdown",
   "metadata": {},
   "source": [
    "# Karatsuba Algorithm for Multiplication:\n",
    "\n",
    "The Algorithm for calculating the product of two n-digit numbers is as follows: \n",
    "- Divide the two numbers x, y in two halves a,b and c,d each respectively,  so that \n",
    "\\begin{equation*} x = a*10^{n/2} + b \\end{equation*} and \\begin{equation*} y=c*10^{n/2} + d \\end{equation*}, where $n$ is number of digits in x or y (assuming they are equal sized),  or _(image source: Stanford.edu)_: ![Picture1.png](attachment:Picture1.png) \n",
    "\n",
    "- **Step 1**: Compute $p1 = a*c$\n",
    "- **Step 2**: Compute $p2 = b*d $\n",
    "- **Step 3**: Compute $p3 = (a+b)(c+d)$\n",
    "- **Step 4**: Compute $p4 = p3-p2-p1$\n",
    "- **Step 5**: Compute \\begin{equation*}product(x,y) =  p1 * 10^{n} + p4 * 10^{n/2} + p2 \\end{equation*}\n",
    "\n",
    "## 1. Recursive algorithm:\n",
    "\n",
    "The products p1, p2, and p3 can be computed recursively using Karatsuba algorithm. This implies that the algorithm is called till we have single digit numbers which can be multiplied directly. \n",
    "\n",
    "## 2. Generalizaion:\n",
    "\n",
    "### 2.1 Odd number of digits:\n",
    "In case x and y have odd number of digits, we compute step 1 to 4 as usual. The split of number will be unequal but that will not impact the algorithm. Only part that changes is step 5 which is now calculated as: \\begin{equation*}product(x,y) =  p1 * 10^{n+mod(n,2)} + p4 * 10^{(n+mod(n,2))/2} + p2 \\end{equation*}\n",
    "\n",
    "### 2.2 Unequal digits in x and y\n",
    "In case of unequal number of digits in x and y, pad the smaller number by zeros so that they have same number of digits. Divide the result by $10^p$ where $p$ is number zeros being padded."
   ]
  },
  {
   "cell_type": "code",
   "execution_count": 2,
   "metadata": {},
   "outputs": [],
   "source": [
    "import pandas as pd\n",
    "import numpy as np\n",
    "import matplotlib.pyplot as plt\n",
    "\n",
    "%matplotlib inline"
   ]
  },
  {
   "cell_type": "code",
   "execution_count": 14,
   "metadata": {},
   "outputs": [],
   "source": [
    "def num2digit(x):\n",
    "    # Converts the integer to array of digits\n",
    "    return [int(i) for i in str(x)]"
   ]
  },
  {
   "cell_type": "code",
   "execution_count": 15,
   "metadata": {},
   "outputs": [],
   "source": [
    "def digit2num(lst):\n",
    "    # Converts the array of digits to integer\n",
    "    no =0\n",
    "    for i in range(len(lst)):\n",
    "        no += lst[i]*10**((len(lst))-i-1)\n",
    "    return no"
   ]
  },
  {
   "cell_type": "code",
   "execution_count": 19,
   "metadata": {},
   "outputs": [
    {
     "name": "stdout",
     "output_type": "stream",
     "text": [
      "[1, 2, 3, 4, 5]\n",
      "12345\n"
     ]
    }
   ],
   "source": [
    "# Test\n",
    "x =12345\n",
    "lst= num2digit(x)\n",
    "print(lst)\n",
    "x1 = digit2num(lst)\n",
    "print(x1)"
   ]
  },
  {
   "cell_type": "code",
   "execution_count": 1,
   "metadata": {},
   "outputs": [],
   "source": [
    "def split_array(lst):\n",
    "    # Splits the array lst in two halves a,b \n",
    "    n = len(lst)\n",
    "    a = lst[0:int(n//2)]\n",
    "    b = lst[int(n//2)::]\n",
    "    return a,b\n",
    "    "
   ]
  },
  {
   "cell_type": "code",
   "execution_count": 2,
   "metadata": {},
   "outputs": [
    {
     "name": "stdout",
     "output_type": "stream",
     "text": [
      "[1, 2] [3, 4]\n"
     ]
    }
   ],
   "source": [
    "# Test\n",
    "lst = [1,2,3,4]\n",
    "a,b = split_array(lst)\n",
    "print(a,b)"
   ]
  },
  {
   "cell_type": "code",
   "execution_count": 10,
   "metadata": {},
   "outputs": [],
   "source": [
    "def Karatsuba(x,y):\n",
    "    #Non-recursive version\n",
    "    \n",
    "    #turn integers into digits\n",
    "    lst_x = num2digit(x)\n",
    "    lst_y = num2digit(y)\n",
    "    n =max(len(lst_x),len(lst_y))\n",
    "    \n",
    "    # For unequl length of multiples, pad the list with \n",
    "    # zeros and divide the result bt power of 10 in the end\n",
    "    div =1\n",
    "    if len(lst_x) < len(lst_y):\n",
    "        div = 10**(len(lst_y)-len(lst_x))\n",
    "        lst_x = (lst_x +[0]*(len(lst_y)-len(lst_x)))\n",
    "        \n",
    "    elif len(lst_y)< len(lst_x):\n",
    "        div = 10**(len(lst_x)-len(lst_y))\n",
    "        lst_y = (lst_y +[0]*(len(lst_x)-len(lst_y)))\n",
    "        \n",
    "    \n",
    "    # Divide in two halves\n",
    "    a,b =  split_array(lst_x)\n",
    "    c,d = split_array(lst_y)\n",
    "    \n",
    "    # Change back to integers from array\n",
    "    a = digit2num(a)\n",
    "    b = digit2num(b)\n",
    "    c = digit2num(c)\n",
    "    d = digit2num(d)\n",
    "    \n",
    "\n",
    "    # Calculate the terms\n",
    "    p1 = a*c\n",
    "    p2 = b*d\n",
    "    p3 = (a+b)*(c+d)\n",
    "    p4 = p3-p2-p1\n",
    "    \n",
    "    # The modulus function in result ensure it works for odd number of digits.\n",
    "    return int(((p1*(10**(n+(n%2))))+ (p4*(10**((n+(n%2))//2))) +p2)/div)\n"
   ]
  },
  {
   "cell_type": "code",
   "execution_count": 18,
   "metadata": {},
   "outputs": [
    {
     "data": {
      "text/plain": [
       "4485"
      ]
     },
     "execution_count": 18,
     "metadata": {},
     "output_type": "execute_result"
    }
   ],
   "source": [
    "Karatsuba(13,345)"
   ]
  },
  {
   "cell_type": "code",
   "execution_count": 59,
   "metadata": {},
   "outputs": [],
   "source": [
    "def Karatsuba_recursive(x,y):\n",
    "    #Non-recursive version\n",
    "    \n",
    "    #turn integers into digits\n",
    "    lst_x = num2digit(x)\n",
    "    lst_y = num2digit(y)\n",
    "    n =max(len(lst_x),len(lst_y))\n",
    "    \n",
    "    # Base case\n",
    "    if n == 1:\n",
    "        return x*y\n",
    "    \n",
    "    else:\n",
    "        \n",
    "        # for unequal numbers of length: workout later\n",
    "        div =1\n",
    "        if len(lst_x) < len(lst_y):\n",
    "            div = 10**(len(lst_y)-len(lst_x))\n",
    "            lst_x = (lst_x +[0]*(len(lst_y)-len(lst_x)))\n",
    "\n",
    "        elif len(lst_y)< len(lst_x):\n",
    "            div = 10**(len(lst_x)-len(lst_y))\n",
    "            lst_y = (lst_y +[0]*(len(lst_x)-len(lst_y)))\n",
    "\n",
    "\n",
    "        # Divide in two halves\n",
    "        a,b =  split_array(lst_x)\n",
    "        c,d = split_array(lst_y)\n",
    "        \n",
    "        # Change back to integers from array\n",
    "        a = digit2num(a)\n",
    "        b = digit2num(b)\n",
    "        c = digit2num(c)\n",
    "        d = digit2num(d)\n",
    "        \n",
    "        # Calculate the terms using recursion\n",
    "        p1 = Karatsuba_recursive(a,c)\n",
    "        p2 = Karatsuba_recursive(b,d)\n",
    "        p3 = Karatsuba_recursive((a+b),(c+d))\n",
    "        p4 = p3-p2-p1\n",
    "        return int(((p1*(10**(n+(n%2))))+ (p4*(10**((n+(n%2))//2))) +p2)/div)\n"
   ]
  },
  {
   "cell_type": "code",
   "execution_count": 60,
   "metadata": {},
   "outputs": [
    {
     "data": {
      "text/plain": [
       "7006652"
      ]
     },
     "execution_count": 60,
     "metadata": {},
     "output_type": "execute_result"
    }
   ],
   "source": [
    "Karatsuba_recursive(1234,5678)"
   ]
  },
  {
   "cell_type": "code",
   "execution_count": 65,
   "metadata": {},
   "outputs": [
    {
     "name": "stdout",
     "output_type": "stream",
     "text": [
      "All tests passed\n",
      "All tests passed\n"
     ]
    }
   ],
   "source": [
    "from nose.tools import assert_equal\n",
    "\n",
    "class test_karatsuba(object):\n",
    "    def test_k(self,sol):\n",
    "        assert_equal(sol(1234,5678),7006652) # example with 2^n digits\n",
    "        assert_equal(sol(128, 909),116352)   # example with odd number of digits\n",
    "        assert_equal(sol(56, 358),20048)     # example with unequal number of digits\n",
    "        assert_equal(sol(273916949, 476082), 130406928913818)     # example with large number of digits\n",
    "\n",
    "        print('All tests passed')\n",
    "\n",
    "t1 = test_karatsuba()\n",
    "t1.test_k(Karatsuba)\n",
    "\n",
    "t2 = test_karatsuba()\n",
    "t2.test_k(Karatsuba_recursive)"
   ]
  }
 ],
 "metadata": {
  "kernelspec": {
   "display_name": "Python 3",
   "language": "python",
   "name": "python3"
  },
  "language_info": {
   "codemirror_mode": {
    "name": "ipython",
    "version": 3
   },
   "file_extension": ".py",
   "mimetype": "text/x-python",
   "name": "python",
   "nbconvert_exporter": "python",
   "pygments_lexer": "ipython3",
   "version": "3.7.3"
  }
 },
 "nbformat": 4,
 "nbformat_minor": 2
}
